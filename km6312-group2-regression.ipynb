{
 "cells": [
  {
   "cell_type": "code",
   "execution_count": 1,
   "id": "9780ca9a",
   "metadata": {},
   "outputs": [
    {
     "name": "stdout",
     "output_type": "stream",
     "text": [
      "(139994, 10)\n"
     ]
    },
    {
     "data": {
      "text/html": [
       "<div>\n",
       "<style scoped>\n",
       "    .dataframe tbody tr th:only-of-type {\n",
       "        vertical-align: middle;\n",
       "    }\n",
       "\n",
       "    .dataframe tbody tr th {\n",
       "        vertical-align: top;\n",
       "    }\n",
       "\n",
       "    .dataframe thead th {\n",
       "        text-align: right;\n",
       "    }\n",
       "</style>\n",
       "<table border=\"1\" class=\"dataframe\">\n",
       "  <thead>\n",
       "    <tr style=\"text-align: right;\">\n",
       "      <th></th>\n",
       "      <th>publishedAt</th>\n",
       "      <th>channelTitle</th>\n",
       "      <th>categoryId</th>\n",
       "      <th>trending_date</th>\n",
       "      <th>View</th>\n",
       "      <th>likes</th>\n",
       "      <th>dislikes</th>\n",
       "      <th>comment_count</th>\n",
       "      <th>title_len</th>\n",
       "      <th>tag_num</th>\n",
       "    </tr>\n",
       "  </thead>\n",
       "  <tbody>\n",
       "    <tr>\n",
       "      <th>0</th>\n",
       "      <td>2020-08</td>\n",
       "      <td>Brawadis</td>\n",
       "      <td>22</td>\n",
       "      <td>2020-08</td>\n",
       "      <td>151</td>\n",
       "      <td>156908</td>\n",
       "      <td>5855</td>\n",
       "      <td>35313</td>\n",
       "      <td>7</td>\n",
       "      <td>15</td>\n",
       "    </tr>\n",
       "    <tr>\n",
       "      <th>1</th>\n",
       "      <td>2020-08</td>\n",
       "      <td>Apex Legends</td>\n",
       "      <td>20</td>\n",
       "      <td>2020-08</td>\n",
       "      <td>238</td>\n",
       "      <td>146739</td>\n",
       "      <td>2794</td>\n",
       "      <td>16549</td>\n",
       "      <td>10</td>\n",
       "      <td>25</td>\n",
       "    </tr>\n",
       "  </tbody>\n",
       "</table>\n",
       "</div>"
      ],
      "text/plain": [
       "  publishedAt  channelTitle  categoryId trending_date  View   likes  dislikes  \\\n",
       "0     2020-08      Brawadis          22       2020-08   151  156908      5855   \n",
       "1     2020-08  Apex Legends          20       2020-08   238  146739      2794   \n",
       "\n",
       "   comment_count  title_len  tag_num  \n",
       "0          35313          7       15  \n",
       "1          16549         10       25  "
      ]
     },
     "execution_count": 1,
     "metadata": {},
     "output_type": "execute_result"
    }
   ],
   "source": [
    "import pandas as pd\n",
    "import numpy as np\n",
    "from sklearn.linear_model import LinearRegression\n",
    "from sklearn.model_selection import train_test_split\n",
    "from sklearn.metrics import mean_squared_error, mean_absolute_error, median_absolute_error\n",
    "np.random.seed(123)\n",
    "\n",
    "file_name = \"data_new.csv\"\n",
    "df_data = pd.read_csv(file_name, sep=',')\n",
    "df_data=df_data.drop(['title','tags'],axis=1)\n",
    "\n",
    "df_data.rename(columns={'view_count': 'View'}, inplace=True)\n",
    "df_data[\"View\"] = df_data[\"View\"].apply(lambda x: round(x/10000))\n",
    "df_data = df_data[~(df_data['View']==0)]\n",
    "\n",
    "df_data['trending_date']=[x[:7] for x in df_data['trending_date']]\n",
    "df_data['publishedAt']=[x[:7] for x in df_data['publishedAt']]\n",
    "\n",
    "print(df_data.shape)\n",
    "df_data.head(2)"
   ]
  },
  {
   "cell_type": "code",
   "execution_count": 2,
   "id": "0d24c29b",
   "metadata": {},
   "outputs": [
    {
     "data": {
      "text/plain": [
       "Index(['categoryId', 'View', 'likes', 'dislikes', 'comment_count', 'title_len',\n",
       "       'tag_num', 'publishedAt_2020-08', 'publishedAt_2020-09',\n",
       "       'publishedAt_2020-10',\n",
       "       ...\n",
       "       'trending_date_2022-02', 'trending_date_2022-03',\n",
       "       'trending_date_2022-04', 'trending_date_2022-05',\n",
       "       'trending_date_2022-06', 'trending_date_2022-07',\n",
       "       'trending_date_2022-08', 'trending_date_2022-09',\n",
       "       'trending_date_2022-10', 'trending_date_2022-11'],\n",
       "      dtype='object', length=5725)"
      ]
     },
     "execution_count": 2,
     "metadata": {},
     "output_type": "execute_result"
    }
   ],
   "source": [
    "df_used = pd.get_dummies(df_data)\n",
    "df_used.columns"
   ]
  },
  {
   "cell_type": "code",
   "execution_count": 3,
   "id": "ee1b270f",
   "metadata": {},
   "outputs": [
    {
     "name": "stdout",
     "output_type": "stream",
     "text": [
      "Baseline on test data, MAE is 193.30\n",
      "Baseline on test data, RMSE is 714.96\n"
     ]
    },
    {
     "name": "stderr",
     "output_type": "stream",
     "text": [
      "E:\\Anaconda\\lib\\site-packages\\numpy\\core\\fromnumeric.py:3438: FutureWarning: In a future version, DataFrame.mean(axis=None) will return a scalar mean over the entire DataFrame. To retain the old behavior, use 'frame.mean(axis=0)' or just 'frame.mean()'\n",
      "  return mean(axis=axis, dtype=dtype, out=out, **kwargs)\n"
     ]
    }
   ],
   "source": [
    "df_X = df_used.drop(columns=['View'])\n",
    "df_y = df_used[['View']]\n",
    "X_train, X_test, y_train, y_test = train_test_split(df_X, df_y, \n",
    "                                                    test_size = 0.25,\n",
    "                                                    random_state=123)\n",
    "\n",
    "#Set baseline: use the median value as the prediction results\n",
    "baseline = np.median(y_train)\n",
    "baseline_mae = np.mean(abs(baseline - y_test))\n",
    "baseline_rmse = np.sqrt(np.mean((baseline - y_test) ** 2))\n",
    "print('Baseline on test data, MAE is %0.2f' %  baseline_mae)  \n",
    "print('Baseline on test data, RMSE is %0.2f' %  baseline_rmse)   "
   ]
  },
  {
   "cell_type": "code",
   "execution_count": 4,
   "id": "8170980c",
   "metadata": {
    "scrolled": false
   },
   "outputs": [
    {
     "name": "stdout",
     "output_type": "stream",
     "text": [
      "Using Linear Regression, MAE is 88.64\n",
      "Using Linear Regression, RMSE is 269.98\n"
     ]
    },
    {
     "name": "stderr",
     "output_type": "stream",
     "text": [
      "E:\\Anaconda\\lib\\site-packages\\numpy\\core\\fromnumeric.py:3438: FutureWarning: In a future version, DataFrame.mean(axis=None) will return a scalar mean over the entire DataFrame. To retain the old behavior, use 'frame.mean(axis=0)' or just 'frame.mean()'\n",
      "  return mean(axis=axis, dtype=dtype, out=out, **kwargs)\n"
     ]
    }
   ],
   "source": [
    "#Use linear regression model\n",
    "feature_train = X_train[df_X.columns]\n",
    "\n",
    "lr = LinearRegression()\n",
    "lr.fit(feature_train, y_train)\n",
    "\n",
    "feature_test = X_test[df_X.columns]\n",
    "predictions = lr.predict(feature_test)\n",
    "mae = np.mean(abs(predictions - y_test))\n",
    "rmse = np.sqrt(np.mean((predictions - y_test) ** 2))\n",
    "print('Using Linear Regression, MAE is %0.2f' %  mae)  \n",
    "print('Using Linear Regression, RMSE is %0.2f' %  rmse) "
   ]
  },
  {
   "cell_type": "code",
   "execution_count": null,
   "id": "44c66773",
   "metadata": {},
   "outputs": [
    {
     "name": "stderr",
     "output_type": "stream",
     "text": [
      "C:\\Users\\xcy\\AppData\\Local\\Temp\\ipykernel_16400\\3781654999.py:6: DataConversionWarning: A column-vector y was passed when a 1d array was expected. Please change the shape of y to (n_samples,), for example using ravel().\n",
      "  regressor.fit(feature_train, y_train)\n"
     ]
    }
   ],
   "source": [
    "#Use random forest regression model\n",
    "from sklearn.ensemble import RandomForestRegressor\n",
    "feature_train = X_train[df_X.columns]\n",
    "\n",
    "regressor = RandomForestRegressor(n_estimators=200, random_state=0)\n",
    "regressor.fit(feature_train, y_train)\n",
    "feature_test = X_test[df_X.columns]\n",
    "predictions = regressor.predict(feature_test)\n",
    "\n",
    "mae = np.mean(abs(predictions - np.array(y_test)))\n",
    "rmse = np.sqrt(np.mean((predictions - np.array(y_test)) ** 2))\n",
    "print('Using RF Regression, MAE is %0.2f' %  mae)  \n",
    "print('Using RF Regression, RMSE is %0.2f' %  rmse)"
   ]
  },
  {
   "cell_type": "code",
   "execution_count": 5,
   "id": "ac5439a0",
   "metadata": {},
   "outputs": [
    {
     "name": "stdout",
     "output_type": "stream",
     "text": [
      "Using Linear Regression, MAE is 240.52\n",
      "Using Linear Regression, RMSE is 699.60\n"
     ]
    },
    {
     "name": "stderr",
     "output_type": "stream",
     "text": [
      "E:\\Anaconda\\lib\\site-packages\\numpy\\core\\fromnumeric.py:3438: FutureWarning: In a future version, DataFrame.mean(axis=None) will return a scalar mean over the entire DataFrame. To retain the old behavior, use 'frame.mean(axis=0)' or just 'frame.mean()'\n",
      "  return mean(axis=axis, dtype=dtype, out=out, **kwargs)\n"
     ]
    }
   ],
   "source": [
    "feature_train = X_train[['title_len']]\n",
    "\n",
    "lr = LinearRegression()\n",
    "lr.fit(feature_train, y_train)\n",
    "\n",
    "feature_test = X_test[['title_len']]\n",
    "predictions = lr.predict(feature_test)\n",
    "mae = np.mean(abs(predictions - y_test))\n",
    "rmse = np.sqrt(np.mean((predictions - y_test) ** 2))\n",
    "print('Using Linear Regression, MAE is %0.2f' %  mae)  \n",
    "print('Using Linear Regression, RMSE is %0.2f' %  rmse) "
   ]
  },
  {
   "cell_type": "code",
   "execution_count": 7,
   "id": "a993dc6a",
   "metadata": {},
   "outputs": [
    {
     "name": "stdout",
     "output_type": "stream",
     "text": [
      "Using Linear Regression, MAE is 240.68\n",
      "Using Linear Regression, RMSE is 699.62\n"
     ]
    },
    {
     "name": "stderr",
     "output_type": "stream",
     "text": [
      "E:\\Anaconda\\lib\\site-packages\\numpy\\core\\fromnumeric.py:3438: FutureWarning: In a future version, DataFrame.mean(axis=None) will return a scalar mean over the entire DataFrame. To retain the old behavior, use 'frame.mean(axis=0)' or just 'frame.mean()'\n",
      "  return mean(axis=axis, dtype=dtype, out=out, **kwargs)\n"
     ]
    }
   ],
   "source": [
    "feature_train = X_train[['tag_num']]\n",
    "\n",
    "lr = LinearRegression()\n",
    "lr.fit(feature_train, y_train)\n",
    "\n",
    "feature_test = X_test[['tag_num']]\n",
    "predictions = lr.predict(feature_test)\n",
    "mae = np.mean(abs(predictions - y_test))\n",
    "rmse = np.sqrt(np.mean((predictions - y_test) ** 2))\n",
    "print('Using Linear Regression, MAE is %0.2f' %  mae)  \n",
    "print('Using Linear Regression, RMSE is %0.2f' %  rmse) "
   ]
  },
  {
   "cell_type": "code",
   "execution_count": 10,
   "id": "a1a6ccee",
   "metadata": {},
   "outputs": [
    {
     "name": "stdout",
     "output_type": "stream",
     "text": [
      "Using Linear Regression, MAE is 239.59\n",
      "Using Linear Regression, RMSE is 697.12\n"
     ]
    },
    {
     "name": "stderr",
     "output_type": "stream",
     "text": [
      "E:\\Anaconda\\lib\\site-packages\\numpy\\core\\fromnumeric.py:3438: FutureWarning: In a future version, DataFrame.mean(axis=None) will return a scalar mean over the entire DataFrame. To retain the old behavior, use 'frame.mean(axis=0)' or just 'frame.mean()'\n",
      "  return mean(axis=axis, dtype=dtype, out=out, **kwargs)\n"
     ]
    }
   ],
   "source": [
    "feature_train = X_train[['categoryId']]\n",
    "\n",
    "lr = LinearRegression()\n",
    "lr.fit(feature_train, y_train)\n",
    "\n",
    "feature_test = X_test[['categoryId']]\n",
    "predictions = lr.predict(feature_test)\n",
    "mae = np.mean(abs(predictions - y_test))\n",
    "rmse = np.sqrt(np.mean((predictions - y_test) ** 2))\n",
    "print('Using Linear Regression, MAE is %0.2f' %  mae)  \n",
    "print('Using Linear Regression, RMSE is %0.2f' %  rmse) "
   ]
  },
  {
   "cell_type": "code",
   "execution_count": 11,
   "id": "b80dd8ff",
   "metadata": {},
   "outputs": [
    {
     "name": "stdout",
     "output_type": "stream",
     "text": [
      "Using Linear Regression, MAE is 190.80\n",
      "Using Linear Regression, RMSE is 474.78\n"
     ]
    },
    {
     "name": "stderr",
     "output_type": "stream",
     "text": [
      "E:\\Anaconda\\lib\\site-packages\\numpy\\core\\fromnumeric.py:3438: FutureWarning: In a future version, DataFrame.mean(axis=None) will return a scalar mean over the entire DataFrame. To retain the old behavior, use 'frame.mean(axis=0)' or just 'frame.mean()'\n",
      "  return mean(axis=axis, dtype=dtype, out=out, **kwargs)\n"
     ]
    }
   ],
   "source": [
    "feature_train = X_train[['comment_count']]\n",
    "\n",
    "lr = LinearRegression()\n",
    "lr.fit(feature_train, y_train)\n",
    "\n",
    "feature_test = X_test[['comment_count']]\n",
    "predictions = lr.predict(feature_test)\n",
    "mae = np.mean(abs(predictions - y_test))\n",
    "rmse = np.sqrt(np.mean((predictions - y_test) ** 2))\n",
    "print('Using Linear Regression, MAE is %0.2f' %  mae)  \n",
    "print('Using Linear Regression, RMSE is %0.2f' %  rmse) "
   ]
  },
  {
   "cell_type": "code",
   "execution_count": 12,
   "id": "c948c97a",
   "metadata": {},
   "outputs": [
    {
     "name": "stdout",
     "output_type": "stream",
     "text": [
      "Using Linear Regression, MAE is 125.03\n",
      "Using Linear Regression, RMSE is 350.00\n"
     ]
    },
    {
     "name": "stderr",
     "output_type": "stream",
     "text": [
      "E:\\Anaconda\\lib\\site-packages\\numpy\\core\\fromnumeric.py:3438: FutureWarning: In a future version, DataFrame.mean(axis=None) will return a scalar mean over the entire DataFrame. To retain the old behavior, use 'frame.mean(axis=0)' or just 'frame.mean()'\n",
      "  return mean(axis=axis, dtype=dtype, out=out, **kwargs)\n"
     ]
    }
   ],
   "source": [
    "feature_train = X_train[['likes']]\n",
    "\n",
    "lr = LinearRegression()\n",
    "lr.fit(feature_train, y_train)\n",
    "\n",
    "feature_test = X_test[['likes']]\n",
    "predictions = lr.predict(feature_test)\n",
    "mae = np.mean(abs(predictions - y_test))\n",
    "rmse = np.sqrt(np.mean((predictions - y_test) ** 2))\n",
    "print('Using Linear Regression, MAE is %0.2f' %  mae)  \n",
    "print('Using Linear Regression, RMSE is %0.2f' %  rmse) "
   ]
  },
  {
   "cell_type": "code",
   "execution_count": 13,
   "id": "55c6ba79",
   "metadata": {},
   "outputs": [
    {
     "name": "stdout",
     "output_type": "stream",
     "text": [
      "Using Linear Regression, MAE is 198.02\n",
      "Using Linear Regression, RMSE is 613.01\n"
     ]
    },
    {
     "name": "stderr",
     "output_type": "stream",
     "text": [
      "E:\\Anaconda\\lib\\site-packages\\numpy\\core\\fromnumeric.py:3438: FutureWarning: In a future version, DataFrame.mean(axis=None) will return a scalar mean over the entire DataFrame. To retain the old behavior, use 'frame.mean(axis=0)' or just 'frame.mean()'\n",
      "  return mean(axis=axis, dtype=dtype, out=out, **kwargs)\n"
     ]
    }
   ],
   "source": [
    "feature_train = X_train[['dislikes']]\n",
    "\n",
    "lr = LinearRegression()\n",
    "lr.fit(feature_train, y_train)\n",
    "\n",
    "feature_test = X_test[['dislikes']]\n",
    "predictions = lr.predict(feature_test)\n",
    "mae = np.mean(abs(predictions - y_test))\n",
    "rmse = np.sqrt(np.mean((predictions - y_test) ** 2))\n",
    "print('Using Linear Regression, MAE is %0.2f' %  mae)  \n",
    "print('Using Linear Regression, RMSE is %0.2f' %  rmse)"
   ]
  },
  {
   "cell_type": "code",
   "execution_count": 26,
   "id": "be495c3c",
   "metadata": {},
   "outputs": [
    {
     "name": "stdout",
     "output_type": "stream",
     "text": [
      "Using Linear Regression, MAE is 146.64\n",
      "Using Linear Regression, RMSE is 549.76\n"
     ]
    }
   ],
   "source": [
    "#channelTitle\n",
    "df_data2=df_data.drop(['trending_date','publishedAt'],axis=1)\n",
    "df_used = pd.get_dummies(df_data2)\n",
    "\n",
    "df_X2 = df_used2.drop(columns=['View'])\n",
    "df_y2 = df_used2[['View']]\n",
    "X_train2, X_test2, y_train2, y_test2 = train_test_split(df_X2, df_y2, \n",
    "                                                    test_size = 0.25,\n",
    "                                                    random_state=123)\n",
    "df_X2 = df_X.drop(columns=['title_len','tag_num','likes','dislikes','comment_count'])\n",
    "\n",
    "feature_train = X_train[df_X2.columns]\n",
    "\n",
    "lr = LinearRegression()\n",
    "lr.fit(feature_train, y_train)\n",
    "\n",
    "feature_test = X_test[df_X2.columns]\n",
    "predictions = lr.predict(feature_test)\n",
    "mae = np.mean(abs(predictions - y_test))\n",
    "rmse = np.sqrt(np.mean((predictions - y_test) ** 2))\n",
    "print('Using Linear Regression, MAE is %0.2f' %  mae)  \n",
    "print('Using Linear Regression, RMSE is %0.2f' %  rmse) "
   ]
  },
  {
   "cell_type": "code",
   "execution_count": 21,
   "id": "9d151f64",
   "metadata": {},
   "outputs": [
    {
     "name": "stdout",
     "output_type": "stream",
     "text": [
      "Using Linear Regression, MAE is 240.00\n",
      "Using Linear Regression, RMSE is 698.95\n"
     ]
    },
    {
     "name": "stderr",
     "output_type": "stream",
     "text": [
      "E:\\Anaconda\\lib\\site-packages\\numpy\\core\\fromnumeric.py:3438: FutureWarning: In a future version, DataFrame.mean(axis=None) will return a scalar mean over the entire DataFrame. To retain the old behavior, use 'frame.mean(axis=0)' or just 'frame.mean()'\n",
      "  return mean(axis=axis, dtype=dtype, out=out, **kwargs)\n"
     ]
    }
   ],
   "source": [
    "#published_time\n",
    "df_data2=df_data.drop(['trending_date','title_len','tag_num','likes','dislikes','comment_count','categoryId','channelTitle'],axis=1)\n",
    "df_used2 = pd.get_dummies(df_data2)\n",
    "\n",
    "df_X2 = df_used2.drop(columns=['View'])\n",
    "df_y2 = df_used2[['View']]\n",
    "X_train2, X_test2, y_train2, y_test2 = train_test_split(df_X2, df_y2, \n",
    "                                                    test_size = 0.25,\n",
    "                                                    random_state=123)\n",
    "feature_train2 = X_train2[df_X2.columns]\n",
    "\n",
    "lr = LinearRegression()\n",
    "lr.fit(feature_train2, y_train2)\n",
    "\n",
    "feature_test2 = X_test2[df_X2.columns]\n",
    "predictions2 = lr.predict(feature_test2)\n",
    "mae = np.mean(abs(predictions2 - y_test2))\n",
    "rmse = np.sqrt(np.mean((predictions2 - y_test2) ** 2))\n",
    "print('Using Linear Regression, MAE is %0.2f' %  mae)  \n",
    "print('Using Linear Regression, RMSE is %0.2f' %  rmse) "
   ]
  },
  {
   "cell_type": "code",
   "execution_count": 22,
   "id": "c5504d56",
   "metadata": {},
   "outputs": [
    {
     "name": "stdout",
     "output_type": "stream",
     "text": [
      "Using Linear Regression, MAE is 240.04\n",
      "Using Linear Regression, RMSE is 699.18\n"
     ]
    },
    {
     "name": "stderr",
     "output_type": "stream",
     "text": [
      "E:\\Anaconda\\lib\\site-packages\\numpy\\core\\fromnumeric.py:3438: FutureWarning: In a future version, DataFrame.mean(axis=None) will return a scalar mean over the entire DataFrame. To retain the old behavior, use 'frame.mean(axis=0)' or just 'frame.mean()'\n",
      "  return mean(axis=axis, dtype=dtype, out=out, **kwargs)\n"
     ]
    }
   ],
   "source": [
    "#trending_date\n",
    "df_data2=df_data.drop(['publishedAt','title_len','tag_num','likes','dislikes','comment_count','categoryId','channelTitle'],axis=1)\n",
    "df_used2 = pd.get_dummies(df_data2)\n",
    "\n",
    "df_X2 = df_used2.drop(columns=['View'])\n",
    "df_y2 = df_used2[['View']]\n",
    "X_train2, X_test2, y_train2, y_test2 = train_test_split(df_X2, df_y2, \n",
    "                                                    test_size = 0.25,\n",
    "                                                    random_state=123)\n",
    "feature_train2 = X_train2[df_X2.columns]\n",
    "\n",
    "lr = LinearRegression()\n",
    "lr.fit(feature_train2, y_train2)\n",
    "\n",
    "feature_test2 = X_test2[df_X2.columns]\n",
    "predictions2 = lr.predict(feature_test2)\n",
    "mae = np.mean(abs(predictions2 - y_test2))\n",
    "rmse = np.sqrt(np.mean((predictions2 - y_test2) ** 2))\n",
    "print('Using Linear Regression, MAE is %0.2f' %  mae)  \n",
    "print('Using Linear Regression, RMSE is %0.2f' %  rmse)"
   ]
  },
  {
   "cell_type": "code",
   "execution_count": null,
   "id": "0271aa23",
   "metadata": {},
   "outputs": [],
   "source": []
  }
 ],
 "metadata": {
  "kernelspec": {
   "display_name": "Python 3 (ipykernel)",
   "language": "python",
   "name": "python3"
  },
  "language_info": {
   "codemirror_mode": {
    "name": "ipython",
    "version": 3
   },
   "file_extension": ".py",
   "mimetype": "text/x-python",
   "name": "python",
   "nbconvert_exporter": "python",
   "pygments_lexer": "ipython3",
   "version": "3.9.12"
  }
 },
 "nbformat": 4,
 "nbformat_minor": 5
}
